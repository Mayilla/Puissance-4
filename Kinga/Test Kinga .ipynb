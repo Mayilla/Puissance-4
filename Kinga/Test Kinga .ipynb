{
 "cells": [
  {
   "cell_type": "code",
   "execution_count": null,
   "metadata": {},
   "outputs": [],
   "source": [
    "confettis = []\n",
    "\n",
    "def animer_confettis():\n",
    "    for confetti, vitesse in confettis:\n",
    "        canvas.move(confetti, 0, vitesse)                   # x = 0, y = vitesse\n",
    "    canvas.after(50, animer_confettis)                      # Rappelle la fonction tte les 50ms\n",
    "    # https://sites.google.com/site/pythonpasapas/modules/tkinter/tkinter-methodes/tkinter-after -> pour le .after\n",
    "\n",
    "def lancer_confettis():\n",
    "    for i in range(120):                                     # 70 confettis\n",
    "        x = random.randint(0, colonnes * taille_case)       # Position aléatoire\n",
    "        y = random.randint(0, 50)\n",
    "        r = random.randint(5, 15)\n",
    "        couleur = random.choice([\"red\", \"yellow\", \"green\", \"light green\", \"light blue\", \"orange\", \"purple\",\"magenta\", \"pink\"])\n",
    "        confetti = canvas.create_oval(x, y, x + r, y + r, fill=couleur, outline=\"\")         # C'est des petits ronds\n",
    "        vitesse = random.randint(2, 13)                # vitesse en pixel par image\n",
    "        confettis.append((confetti, vitesse))          # (objet, vitesse)\n",
    "\n",
    "    animer_confettis()"
   ]
  }
 ],
 "metadata": {
  "kernelspec": {
   "display_name": "base",
   "language": "python",
   "name": "python3"
  },
  "language_info": {
   "codemirror_mode": {
    "name": "ipython",
    "version": 3
   },
   "file_extension": ".py",
   "mimetype": "text/x-python",
   "name": "python",
   "nbconvert_exporter": "python",
   "pygments_lexer": "ipython3",
   "version": "3.12.2"
  }
 },
 "nbformat": 4,
 "nbformat_minor": 2
}
